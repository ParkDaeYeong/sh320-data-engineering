{
 "cells": [
  {
   "cell_type": "code",
   "execution_count": 18,
   "id": "6aa07ab2",
   "metadata": {},
   "outputs": [],
   "source": [
    "hairstyles = [\"bouffant\", \"pixie\", \"dreadlocks\", \"crew\", \"bowl\", \"bob\", \"mohawk\", \"flattop\"]"
   ]
  },
  {
   "cell_type": "code",
   "execution_count": 19,
   "id": "872f07f3",
   "metadata": {},
   "outputs": [],
   "source": [
    "prices = [30, 25, 40, 20, 20, 35, 50, 35]"
   ]
  },
  {
   "cell_type": "code",
   "execution_count": 20,
   "id": "9a10a6a1",
   "metadata": {},
   "outputs": [],
   "source": [
    "last_week = [2, 3, 5, 8, 4, 4, 6, 2]"
   ]
  },
  {
   "cell_type": "code",
   "execution_count": 21,
   "id": "3b307b25",
   "metadata": {},
   "outputs": [],
   "source": [
    "total_price = 0"
   ]
  },
  {
   "cell_type": "code",
   "execution_count": 22,
   "id": "f6e3ed5d",
   "metadata": {},
   "outputs": [],
   "source": [
    "for i in prices:\n",
    "    total_price += i"
   ]
  },
  {
   "cell_type": "code",
   "execution_count": 23,
   "id": "f8246041",
   "metadata": {},
   "outputs": [],
   "source": [
    "average_price = total_price / len(prices)"
   ]
  },
  {
   "cell_type": "code",
   "execution_count": 24,
   "id": "8fb7c703",
   "metadata": {},
   "outputs": [
    {
     "name": "stdout",
     "output_type": "stream",
     "text": [
      "Average price is  31.875\n"
     ]
    }
   ],
   "source": [
    "print(\"Average price is \", average_price)"
   ]
  },
  {
   "cell_type": "code",
   "execution_count": 25,
   "id": "e3ab05e6",
   "metadata": {},
   "outputs": [
    {
     "name": "stdout",
     "output_type": "stream",
     "text": [
      "[25, 20, 35, 15, 15, 30, 45, 30]\n"
     ]
    }
   ],
   "source": [
    "new_prices = [price-5 for price in prices]\n",
    "print(new_prices)"
   ]
  },
  {
   "cell_type": "code",
   "execution_count": 26,
   "id": "0297bfb3",
   "metadata": {},
   "outputs": [],
   "source": [
    "total_revenue = 0"
   ]
  },
  {
   "cell_type": "code",
   "execution_count": null,
   "id": "09227586",
   "metadata": {},
   "outputs": [
    {
     "name": "stdout",
     "output_type": "stream",
     "text": [
      "1085\n"
     ]
    }
   ],
   "source": [
    "for i in range(len(hairstyles)):\n",
    "    total_revenue += prices[i] * last_week[i]"
   ]
  },
  {
   "cell_type": "code",
   "execution_count": 30,
   "id": "5525b9f2",
   "metadata": {},
   "outputs": [
    {
     "name": "stdout",
     "output_type": "stream",
     "text": [
      "1085\n"
     ]
    }
   ],
   "source": [
    "print(total_revenue)"
   ]
  },
  {
   "cell_type": "code",
   "execution_count": null,
   "id": "6533c303",
   "metadata": {},
   "outputs": [
    {
     "name": "stdout",
     "output_type": "stream",
     "text": [
      "Average daily revenue is  155.0\n"
     ]
    }
   ],
   "source": [
    "average_daily_revenue = total_revenue / 7\n",
    "print(\"Average daily revenue is \", average_daily_revenue)"
   ]
  },
  {
   "cell_type": "code",
   "execution_count": 31,
   "id": "8cc2c7fe",
   "metadata": {},
   "outputs": [],
   "source": [
    "cuts_under_30 = [hairstyles[i] for i in range(len(new_prices) - 1) if new_prices[i]<30]"
   ]
  },
  {
   "cell_type": "code",
   "execution_count": 32,
   "id": "406ab0d3",
   "metadata": {},
   "outputs": [
    {
     "name": "stdout",
     "output_type": "stream",
     "text": [
      "['bouffant', 'pixie', 'crew', 'bowl']\n"
     ]
    }
   ],
   "source": [
    "print(cuts_under_30)"
   ]
  }
 ],
 "metadata": {
  "kernelspec": {
   "display_name": "base",
   "language": "python",
   "name": "python3"
  },
  "language_info": {
   "codemirror_mode": {
    "name": "ipython",
    "version": 3
   },
   "file_extension": ".py",
   "mimetype": "text/x-python",
   "name": "python",
   "nbconvert_exporter": "python",
   "pygments_lexer": "ipython3",
   "version": "3.12.7"
  }
 },
 "nbformat": 4,
 "nbformat_minor": 5
}
