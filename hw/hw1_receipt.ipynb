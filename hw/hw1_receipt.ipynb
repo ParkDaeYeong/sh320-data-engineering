{
 "cells": [
  {
   "cell_type": "code",
   "execution_count": 10,
   "id": "27f0a7f6",
   "metadata": {},
   "outputs": [],
   "source": [
    "lovely_loveseat_description = \"Lovely Loveseat. Tufted polyester blend on wood. 32 inches high x 40 inches wide x 30 inches deep. Red or white.\"\n",
    "lovely_loveseat_price = 254.00"
   ]
  },
  {
   "cell_type": "code",
   "execution_count": 11,
   "id": "e04fddd6",
   "metadata": {},
   "outputs": [],
   "source": [
    "stylish_settee_description = \"Stylish Settee. Faux leather on birch. 29.50 inches high x 54.75 inches wide x 28 inches deep. Black.\"\n",
    "stylish_settee_price = 180.50"
   ]
  },
  {
   "cell_type": "code",
   "execution_count": 12,
   "id": "f80e8f72",
   "metadata": {},
   "outputs": [],
   "source": [
    "luxurious_lamp_description = \"Luxurious Lamp. Glass and iron. 36 inches tall. Brown with cream shade.\"\n",
    "luxurious_lamp_price = 52.15"
   ]
  },
  {
   "cell_type": "code",
   "execution_count": 13,
   "id": "39ccc959",
   "metadata": {},
   "outputs": [],
   "source": [
    "sales_tax = .088"
   ]
  },
  {
   "cell_type": "code",
   "execution_count": 14,
   "id": "52df589b",
   "metadata": {},
   "outputs": [],
   "source": [
    "customer_one_total = 0\n",
    "customer_one_itemization = \"\""
   ]
  },
  {
   "cell_type": "code",
   "execution_count": 15,
   "id": "657afd14",
   "metadata": {},
   "outputs": [],
   "source": [
    "customer_one_total += lovely_loveseat_price\n",
    "customer_one_itemization += lovely_loveseat_description\n",
    "customer_one_total += luxurious_lamp_price\n",
    "customer_one_itemization += luxurious_lamp_description\n"
   ]
  },
  {
   "cell_type": "code",
   "execution_count": 16,
   "id": "2860906e",
   "metadata": {},
   "outputs": [],
   "source": [
    "customer_one_tax = customer_one_total*sales_tax"
   ]
  },
  {
   "cell_type": "code",
   "execution_count": 17,
   "id": "623da881",
   "metadata": {},
   "outputs": [
    {
     "name": "stdout",
     "output_type": "stream",
     "text": [
      "Customer One Items:\n",
      " Lovely Loveseat. Tufted polyester blend on wood. 32 inches high x 40 inches wide x 30 inches deep. Red or white.Luxurious Lamp. Glass and iron. 36 inches tall. Brown with cream shade.\n",
      "Customer One Total:\n",
      " 333.09119999999996\n"
     ]
    }
   ],
   "source": [
    "print(\"Customer One Items:\\n\", customer_one_itemization)\n",
    "print(\"Customer One Total:\\n\", customer_one_total+customer_one_tax)"
   ]
  }
 ],
 "metadata": {
  "kernelspec": {
   "display_name": "base",
   "language": "python",
   "name": "python3"
  },
  "language_info": {
   "codemirror_mode": {
    "name": "ipython",
    "version": 3
   },
   "file_extension": ".py",
   "mimetype": "text/x-python",
   "name": "python",
   "nbconvert_exporter": "python",
   "pygments_lexer": "ipython3",
   "version": "3.12.7"
  }
 },
 "nbformat": 4,
 "nbformat_minor": 5
}
